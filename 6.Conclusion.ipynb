{
 "cells": [
  {
   "cell_type": "markdown",
   "id": "9054be28-8c9f-43b3-afb1-190d8ebc4348",
   "metadata": {},
   "source": [
    "#    CONCLUSION"
   ]
  },
  {
   "cell_type": "markdown",
   "id": "aab557a3-9038-4631-953e-395ee071a765",
   "metadata": {},
   "source": [
    "### COMPARING THE DIFFERENT MODELS WE SEE\n",
    "\n",
    "\n",
    "|No.|ALGORITHM USED| TRAIN ACCURACY| TEST ACCURACY|PRECISION (0)| PRECISION (1)| RECALL(0)|RECALL(1)|F1-SCORE(0)|F1_SCORE (1)|\n",
    "|---|---------------------|--------|--------------|-------------|--------------|----------|---------|-----------|------------|\n",
    "|**1.** |**LOGISTIC REGRESSOR**  | 0.9137 |0.9048 |0.87|0.95|0.95|0.86|0.91|0.90|\n",
    "|**2.**|**DECISION TREE CLASSIFIER**  | 1.0 | 1.0|0.87|1.0|1.0|1.0|1.0|1.0|\n",
    "|**3.**|**RANDOM FOREST CLASSIFIER**  | 1.0 | 0.9311|0.91|0.96|0.96|0.90|0.93|0.93|\n",
    "|**4.**|**XG BOOST CLASSIFIER**  | 1.0 | 0.92*|0.90|0.94|0.94|0.89|0.92|0.91|\n",
    "\n",
    "#### COMPARING THE ACCURACY OF ALL THE MODELS --\n",
    "\n",
    "      1. IN LOGISTIC REGRESSOR -         THE TEST AND TRAIN ACCRUACY ARE ALMOST SAME, INDICATING THE MODEL IS BOTH TRAINING AND TESTING THE DATA SIMILARYLY\n",
    "      2. IN DECISION TREE CLASSIFIER -   THE TEST AND TRAIN DATA BOTH HAVE 100% ACCURACY, AS BOTH 100% CAN INDICATE AN CASE OF OVERFITTING\n",
    "      3. IN RANDOM FOREST CLASSIFIER -   THE TRAIN IS HIGH AND TEST IS A LITTLE LOW\n",
    "      4. IN XGBOOST CLASSIFIER -         THE TRAIN IS HIGH AND TEST IS A LITTLE LOW, SHOWING A LITTLE OVERFITTING\n",
    "      \n",
    "#### Comparing the model's confusion matrix and classification report\n",
    "     1. LOGISTIC REGRESSION :  While it performs decently, it is the least effective compared to the other models, with lower accuracy and performance metrics\n",
    "     \n",
    "     2. DECISION TREE CLASSIFIER : This model shows perfect performance on both the training and testing sets. However, decision trees can often overfit, so further validation is essential.\n",
    "     \n",
    "     3. RANDOM FOREST CLASSIFIER :The Random Forest Classifier achieves perfect training accuracy and a solid test accuracy. Its precision, recall, and F1-scores are balanced and high, indicating robust performance for both classes\n",
    "     \n",
    "     4. XG BOOST CLASSIFIER : The XGBoost Classifier also shows perfect training accuracy but slightly lower test accuracy than Random Forest. Its precision, recall, and F1-scores are still very good, indicating effective performance, though slightly less robust than Random Forest.\n",
    "     \n",
    "     Overall Best Model: Decision Tree Classifier\n",
    "     Though Decsion tree normally have an issue of overfitting, we can exclude it by observing the graph.\n",
    "     The Decision Tree Classifier stands out with perfect test accuracy and perfect precision, recall, and F1-scores for both classes, indicating it makes no errors on the test set.\n",
    "      \n",
    "      However if we consider the problem of overfitting in the Decsionn tree model, we can consider random forest classifier to be the next best model\n",
    "#### HENCE THE BEST ALGORITHM TO USE WILL BE :\n",
    "###  <u> THE DECISION TREE CLASSIFIER  or RANDOM FOREST CLASSIFIER</u>"
   ]
  },
  {
   "cell_type": "markdown",
   "id": "3d81a711-5c9e-4a32-9d10-15b4856c73fb",
   "metadata": {},
   "source": [
    "\n",
    "###  THIS MODEL CAN BE USED DURING: \n",
    "     1. Hiring Time\n",
    "     2. Internal Promotions or Hikes\n",
    "     3. To predict attrition and work on retention\n"
   ]
  },
  {
   "cell_type": "code",
   "execution_count": 1,
   "id": "3bced787-032c-4121-8f49-fc080b5cbb26",
   "metadata": {},
   "outputs": [],
   "source": []
  },
  {
   "cell_type": "code",
   "execution_count": null,
   "id": "add83934-654b-4487-b5d6-dde17de5597b",
   "metadata": {},
   "outputs": [],
   "source": []
  }
 ],
 "metadata": {
  "kernelspec": {
   "display_name": "Python 3 (ipykernel)",
   "language": "python",
   "name": "python3"
  },
  "language_info": {
   "codemirror_mode": {
    "name": "ipython",
    "version": 3
   },
   "file_extension": ".py",
   "mimetype": "text/x-python",
   "name": "python",
   "nbconvert_exporter": "python",
   "pygments_lexer": "ipython3",
   "version": "3.9.13"
  }
 },
 "nbformat": 4,
 "nbformat_minor": 5
}
