{
 "cells": [
  {
   "cell_type": "markdown",
   "id": "fa7154b2-ee92-4ec2-9dc6-3b2b314ad1e3",
   "metadata": {},
   "source": [
    "# Employee Attrition Project"
   ]
  },
  {
   "cell_type": "markdown",
   "id": "1109a829-6373-405f-995a-cdfc99fe6e3e",
   "metadata": {},
   "source": [
    "This is a dataset which includes the data about 1471 employees.\n",
    "\n",
    "It includes 35 features like :\n",
    "  Age, Attrition, BusinessTravel,DailyRate, Department, DistanceFromHome, Education, EducationField, EmployeeCount, EmployeeNumber, EnvironmentSatisfaction, Gender, HourlyRate, JobInvolvement, JobLevel, JobRole, JobSatisfaction, MaritalStatus, MonthlyIncome, MonthlyRate, NumCompaniesWorked, Over18, OverTime, PercentSalaryHike, PerformanceRating, RelationshipSatisfaction, StandardHours, StockOptionLevel, TotalWorkingYears, TrainingTimesLastYear, WorkLifeBalance, YearsAtCompany, YearsInCurrentRole, YearsSinceLastPromotion, YearsWithCurrManager\n",
    "\n",
    "Based on this data, we will be using it to build a model to predict the attrition of the employees. \n",
    "\n",
    "This data can be used to predict if the employee joining will be leaving the company soon or not based on the previous employee data\n",
    "\n",
    "I have done data cleaning, standardization , data imbalance dealing etc. and finally build 4 models to find the best working one\n",
    "\n",
    "The models build are:\n",
    "1. Logistic regressor\n",
    "2. Decision Tree classifier\n",
    "3. Random Forest CLassifier\n",
    "4. XG BOOST classifier\n",
    "\n",
    "Based on the models build, the best working model are the Decision Tree and Random forest models\n",
    "\n",
    "This project can be used by employees and companies for:\n",
    "\n",
    "1. Hiring employees, based on their attrition possibility\n",
    "2. Internal Promotions or Hikes\n",
    "          \n",
    "          Based on, if the employee will leave or not, we can conduct internal postings and promotions as we require consistent and loyal employees especially at higher posts as team leaders \n",
    "             \n",
    "3. To predict attrition and work on retention\n",
    "     \n",
    "        Using this model, we can predict attrition rates for the company and based on this we can work on the retention of valueable employees, and look into their needs too.\n"
   ]
  },
  {
   "cell_type": "code",
   "execution_count": null,
   "id": "e88cf344-cc8a-4f88-b05e-4e3aef522a26",
   "metadata": {},
   "outputs": [],
   "source": []
  }
 ],
 "metadata": {
  "kernelspec": {
   "display_name": "Python 3 (ipykernel)",
   "language": "python",
   "name": "python3"
  },
  "language_info": {
   "codemirror_mode": {
    "name": "ipython",
    "version": 3
   },
   "file_extension": ".py",
   "mimetype": "text/x-python",
   "name": "python",
   "nbconvert_exporter": "python",
   "pygments_lexer": "ipython3",
   "version": "3.9.13"
  }
 },
 "nbformat": 4,
 "nbformat_minor": 5
}
